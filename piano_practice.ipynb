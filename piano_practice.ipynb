{
 "cells": [
  {
   "cell_type": "code",
   "execution_count": 1,
   "id": "bfd38320",
   "metadata": {},
   "outputs": [],
   "source": [
    "# Imports\n",
    "import numpy as np\n",
    "import pandas as pd"
   ]
  },
  {
   "cell_type": "code",
   "execution_count": 2,
   "id": "bc8d863a",
   "metadata": {},
   "outputs": [],
   "source": [
    "# Make a list of metronome values\n",
    "metronome = list(range(40, 60, 2)) +\\\n",
    "            list(range(60, 72, 3)) +\\\n",
    "            list(range(76, 120, 4)) +\\\n",
    "            list(range(120, 144, 6)) +\\\n",
    "            list(range(144, 216, 8))"
   ]
  },
  {
   "cell_type": "code",
   "execution_count": 3,
   "id": "29a2267a",
   "metadata": {},
   "outputs": [
    {
     "data": {
      "text/plain": [
       "dict_keys(['Invention 1', 'Invention 2', 'Invention 4', 'Invention 6', 'Invention 8', 'Invention 13', 'Invention 14', 'BWV 953'])"
      ]
     },
     "execution_count": 3,
     "metadata": {},
     "output_type": "execute_result"
    }
   ],
   "source": [
    "# Make a dictionary of songs I want to practice along with a tuple containing\n",
    "# the upper and lower bounds\n",
    "songs = {'Invention 1': (40, 72),\n",
    "         'Invention 2': (40, 60),\n",
    "         'Invention 4': (80, 144),\n",
    "         'Invention 6': (80, 120),\n",
    "         'Invention 8': (40, 108),\n",
    "         'Invention 13': (40, 100),\n",
    "         'Invention 14': (40, 50),\n",
    "         'BWV 953': (40, 76)}\n",
    "songs.keys()"
   ]
  },
  {
   "cell_type": "code",
   "execution_count": 4,
   "id": "ca2f6282",
   "metadata": {},
   "outputs": [
    {
     "data": {
      "text/plain": [
       "array(['Invention 2', 'Invention 4', 'Invention 8', 'Invention 14',\n",
       "       'BWV 953', 'Invention 6'], dtype='<U12')"
      ]
     },
     "execution_count": 4,
     "metadata": {},
     "output_type": "execute_result"
    }
   ],
   "source": [
    "# Get the songs to practice\n",
    "practice = np.random.choice(list(songs.keys()), 6, replace = False)\n",
    "practice"
   ]
  },
  {
   "cell_type": "code",
   "execution_count": 5,
   "id": "891e129b",
   "metadata": {},
   "outputs": [
    {
     "name": "stdout",
     "output_type": "stream",
     "text": [
      "['Invention 2' 'Invention 4' 'Invention 8' 'Invention 14' 'BWV 953'\n",
      " 'Invention 6']\n",
      "[40, 92, 80, 48, 50, 100]\n"
     ]
    }
   ],
   "source": [
    "# Get the tempos\n",
    "tempos = []\n",
    "for i in range(len(practice)):\n",
    "    while True:\n",
    "        tempo = np.random.choice(metronome)\n",
    "        if ((tempo >= songs[practice[i]][0]) &\n",
    "            (tempo <= songs[practice[i]][1]) &\n",
    "            (tempo not in tempos)):\n",
    "            break\n",
    "    tempos.append(tempo)\n",
    "print(practice)\n",
    "print(tempos)"
   ]
  },
  {
   "cell_type": "code",
   "execution_count": 6,
   "id": "8246b612",
   "metadata": {},
   "outputs": [
    {
     "data": {
      "text/html": [
       "<div>\n",
       "<style scoped>\n",
       "    .dataframe tbody tr th:only-of-type {\n",
       "        vertical-align: middle;\n",
       "    }\n",
       "\n",
       "    .dataframe tbody tr th {\n",
       "        vertical-align: top;\n",
       "    }\n",
       "\n",
       "    .dataframe thead th {\n",
       "        text-align: right;\n",
       "    }\n",
       "</style>\n",
       "<table border=\"1\" class=\"dataframe\">\n",
       "  <thead>\n",
       "    <tr style=\"text-align: right;\">\n",
       "      <th></th>\n",
       "      <th>Song</th>\n",
       "      <th>Tempo</th>\n",
       "    </tr>\n",
       "  </thead>\n",
       "  <tbody>\n",
       "    <tr>\n",
       "      <th>0</th>\n",
       "      <td>Invention 2</td>\n",
       "      <td>40</td>\n",
       "    </tr>\n",
       "    <tr>\n",
       "      <th>1</th>\n",
       "      <td>Invention 4</td>\n",
       "      <td>92</td>\n",
       "    </tr>\n",
       "    <tr>\n",
       "      <th>2</th>\n",
       "      <td>Invention 8</td>\n",
       "      <td>80</td>\n",
       "    </tr>\n",
       "    <tr>\n",
       "      <th>3</th>\n",
       "      <td>Invention 14</td>\n",
       "      <td>48</td>\n",
       "    </tr>\n",
       "    <tr>\n",
       "      <th>4</th>\n",
       "      <td>BWV 953</td>\n",
       "      <td>50</td>\n",
       "    </tr>\n",
       "    <tr>\n",
       "      <th>5</th>\n",
       "      <td>Invention 6</td>\n",
       "      <td>100</td>\n",
       "    </tr>\n",
       "  </tbody>\n",
       "</table>\n",
       "</div>"
      ],
      "text/plain": [
       "           Song  Tempo\n",
       "0   Invention 2     40\n",
       "1   Invention 4     92\n",
       "2   Invention 8     80\n",
       "3  Invention 14     48\n",
       "4       BWV 953     50\n",
       "5   Invention 6    100"
      ]
     },
     "execution_count": 6,
     "metadata": {},
     "output_type": "execute_result"
    }
   ],
   "source": [
    "pd.DataFrame({'Song': practice, 'Tempo': tempos})"
   ]
  }
 ],
 "metadata": {
  "kernelspec": {
   "display_name": "Python 3 (ipykernel)",
   "language": "python",
   "name": "python3"
  },
  "language_info": {
   "codemirror_mode": {
    "name": "ipython",
    "version": 3
   },
   "file_extension": ".py",
   "mimetype": "text/x-python",
   "name": "python",
   "nbconvert_exporter": "python",
   "pygments_lexer": "ipython3",
   "version": "3.8.13"
  },
  "toc": {
   "base_numbering": 1,
   "nav_menu": {},
   "number_sections": false,
   "sideBar": true,
   "skip_h1_title": false,
   "title_cell": "Table of Contents",
   "title_sidebar": "Contents",
   "toc_cell": false,
   "toc_position": {},
   "toc_section_display": true,
   "toc_window_display": false
  }
 },
 "nbformat": 4,
 "nbformat_minor": 5
}

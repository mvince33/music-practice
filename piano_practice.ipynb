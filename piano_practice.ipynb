{
 "cells": [
  {
   "cell_type": "markdown",
   "id": "562d4247",
   "metadata": {},
   "source": [
    "# Code"
   ]
  },
  {
   "cell_type": "code",
   "execution_count": 1,
   "id": "bfd38320",
   "metadata": {},
   "outputs": [],
   "source": [
    "# Imports\n",
    "import numpy as np\n",
    "import pandas as pd"
   ]
  },
  {
   "cell_type": "code",
   "execution_count": 2,
   "id": "bc8d863a",
   "metadata": {},
   "outputs": [],
   "source": [
    "# Make a list of metronome values\n",
    "metronome = list(range(40, 60, 2)) +\\\n",
    "            list(range(60, 72, 3)) +\\\n",
    "            list(range(76, 120, 4)) +\\\n",
    "            list(range(120, 144, 6)) +\\\n",
    "            list(range(144, 216, 8))"
   ]
  },
  {
   "cell_type": "code",
   "execution_count": 3,
   "id": "29a2267a",
   "metadata": {},
   "outputs": [],
   "source": [
    "# Make a dictionary of songs I want to practice along with a tuple containing\n",
    "# the upper and lower bounds for the tempos\n",
    "songs = {'Invention 1': (40, 72),\n",
    "         'Invention 2': (40, 63),\n",
    "         'Invention 4': (80, 144),\n",
    "         'Invention 6': (80, 116),\n",
    "         'Invention 8': (40, 108),\n",
    "         'Invention 13': (40, 100),\n",
    "         'Invention 14': (40, 52),\n",
    "         'BWV 953': (40, 80)}"
   ]
  },
  {
   "cell_type": "code",
   "execution_count": 4,
   "id": "ca2f6282",
   "metadata": {},
   "outputs": [],
   "source": [
    "# Get the songs to practice\n",
    "practice = np.random.choice(list(songs.keys()), 6, replace = False)"
   ]
  },
  {
   "cell_type": "code",
   "execution_count": 5,
   "id": "891e129b",
   "metadata": {},
   "outputs": [],
   "source": [
    "# Get the tempos\n",
    "tempos = []\n",
    "maximums = []\n",
    "for i in range(len(practice)):\n",
    "    while True:\n",
    "        tempo = np.random.choice(metronome)\n",
    "        if ((tempo >= songs[practice[i]][0]) &\n",
    "            (tempo <= songs[practice[i]][1]) &\n",
    "            (tempo not in tempos)):\n",
    "            break\n",
    "    tempos.append(tempo)\n",
    "    maximums.append(songs[practice[i]][1])"
   ]
  },
  {
   "cell_type": "markdown",
   "id": "956e1ac3",
   "metadata": {},
   "source": [
    "# Display"
   ]
  },
  {
   "cell_type": "code",
   "execution_count": 6,
   "id": "8246b612",
   "metadata": {},
   "outputs": [
    {
     "data": {
      "text/html": [
       "<div>\n",
       "<style scoped>\n",
       "    .dataframe tbody tr th:only-of-type {\n",
       "        vertical-align: middle;\n",
       "    }\n",
       "\n",
       "    .dataframe tbody tr th {\n",
       "        vertical-align: top;\n",
       "    }\n",
       "\n",
       "    .dataframe thead th {\n",
       "        text-align: right;\n",
       "    }\n",
       "</style>\n",
       "<table border=\"1\" class=\"dataframe\">\n",
       "  <thead>\n",
       "    <tr style=\"text-align: right;\">\n",
       "      <th></th>\n",
       "      <th>Song</th>\n",
       "      <th>Tempo</th>\n",
       "      <th>Maximums</th>\n",
       "    </tr>\n",
       "  </thead>\n",
       "  <tbody>\n",
       "    <tr>\n",
       "      <th>0</th>\n",
       "      <td>BWV 953</td>\n",
       "      <td>50</td>\n",
       "      <td>80</td>\n",
       "    </tr>\n",
       "    <tr>\n",
       "      <th>1</th>\n",
       "      <td>Invention 4</td>\n",
       "      <td>108</td>\n",
       "      <td>144</td>\n",
       "    </tr>\n",
       "    <tr>\n",
       "      <th>2</th>\n",
       "      <td>Invention 1</td>\n",
       "      <td>58</td>\n",
       "      <td>72</td>\n",
       "    </tr>\n",
       "    <tr>\n",
       "      <th>3</th>\n",
       "      <td>Invention 6</td>\n",
       "      <td>112</td>\n",
       "      <td>116</td>\n",
       "    </tr>\n",
       "    <tr>\n",
       "      <th>4</th>\n",
       "      <td>Invention 8</td>\n",
       "      <td>76</td>\n",
       "      <td>108</td>\n",
       "    </tr>\n",
       "    <tr>\n",
       "      <th>5</th>\n",
       "      <td>Invention 13</td>\n",
       "      <td>92</td>\n",
       "      <td>100</td>\n",
       "    </tr>\n",
       "  </tbody>\n",
       "</table>\n",
       "</div>"
      ],
      "text/plain": [
       "           Song  Tempo  Maximums\n",
       "0       BWV 953     50        80\n",
       "1   Invention 4    108       144\n",
       "2   Invention 1     58        72\n",
       "3   Invention 6    112       116\n",
       "4   Invention 8     76       108\n",
       "5  Invention 13     92       100"
      ]
     },
     "execution_count": 6,
     "metadata": {},
     "output_type": "execute_result"
    }
   ],
   "source": [
    "# Display the practice routine\n",
    "pd.DataFrame({'Song': practice, 'Tempo': tempos, 'Maximums': maximums})"
   ]
  }
 ],
 "metadata": {
  "kernelspec": {
   "display_name": "Python 3 (ipykernel)",
   "language": "python",
   "name": "python3"
  },
  "language_info": {
   "codemirror_mode": {
    "name": "ipython",
    "version": 3
   },
   "file_extension": ".py",
   "mimetype": "text/x-python",
   "name": "python",
   "nbconvert_exporter": "python",
   "pygments_lexer": "ipython3",
   "version": "3.10.6"
  },
  "toc": {
   "base_numbering": 1,
   "nav_menu": {},
   "number_sections": false,
   "sideBar": true,
   "skip_h1_title": false,
   "title_cell": "Table of Contents",
   "title_sidebar": "Contents",
   "toc_cell": false,
   "toc_position": {
    "height": "calc(100% - 180px)",
    "left": "10px",
    "top": "150px",
    "width": "369.2px"
   },
   "toc_section_display": true,
   "toc_window_display": true
  }
 },
 "nbformat": 4,
 "nbformat_minor": 5
}
